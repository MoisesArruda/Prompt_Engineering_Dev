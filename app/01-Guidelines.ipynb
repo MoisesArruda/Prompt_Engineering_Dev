{
 "cells": [
  {
   "cell_type": "markdown",
   "metadata": {},
   "source": [
    "## Definir uma série de instruções claras que o guiará o modelo para retornar a resposta formatada para o usuário "
   ]
  },
  {
   "cell_type": "code",
   "execution_count": 2,
   "metadata": {},
   "outputs": [],
   "source": [
    "from langchain.prompts import PromptTemplate\n",
    "from chat_embeddings import create_chain"
   ]
  },
  {
   "cell_type": "markdown",
   "metadata": {},
   "source": [
    "**Princípios de Prompt:**\n",
    "\n",
    "1. Escreva instruções específicas e claras\n",
    "2. Dê tempo ao modelo para \"pensar\"\n",
    "\n",
    "**Taticas: Use delimitadores para indicas partes do input**"
   ]
  },
  {
   "cell_type": "code",
   "execution_count": 14,
   "metadata": {},
   "outputs": [],
   "source": [
    "text = f\"You should express what you want a model to do by \\\n",
    "providing instructions that are as clear and \\\n",
    "specific as you can possibly make them. \\\n",
    "This will guide the model towards the desired output, \\\n",
    "and reduce the chances of receiving irrelevant \\\n",
    "or incorrect responses. Don't confuse writing a \\\n",
    "clear prompt with writing a short prompt. \\\n",
    "In many cases, longer prompts provide more clarity \\\n",
    "and context for the model, which can lead to \\\n",
    "more detailed and relevant outputs.\""
   ]
  },
  {
   "cell_type": "code",
   "execution_count": 15,
   "metadata": {},
   "outputs": [],
   "source": [
    "template = \"\"\"\n",
    "Summarize the text delimited by triple backticks \\\n",
    "into a single sentence.\n",
    "human = {text}\n",
    "AI = \"\"\"\n"
   ]
  },
  {
   "cell_type": "code",
   "execution_count": 17,
   "metadata": {},
   "outputs": [
    {
     "name": "stdout",
     "output_type": "stream",
     "text": [
      "\n",
      "\n",
      "\u001b[1m> Entering new  chain...\u001b[0m\n",
      "Prompt after formatting:\n",
      "\u001b[32;1m\u001b[1;3m\n",
      "Summarize the text delimited by triple backticks into a single sentence.\n",
      "human = You should express what you want a model to do by providing instructions that are as clear and specific as you can possibly make them. This will guide the model towards the desired output, and reduce the chances of receiving irrelevant or incorrect responses. Don't confuse writing a clear prompt with writing a short prompt. In many cases, longer prompts provide more clarity and context for the model, which can lead to more detailed and relevant outputs.\n",
      "AI = \u001b[0m\n",
      "\n",
      "\u001b[1m> Finished chain.\u001b[0m\n",
      "Clear and specific instructions should be provided to guide the model towards the desired output, and longer prompts can provide more clarity and context for the model, leading to more detailed and relevant outputs.\n"
     ]
    }
   ],
   "source": [
    "def create_prompt():\n",
    "    \n",
    "    return PromptTemplate(\n",
    "\n",
    "    template=template,\n",
    "    input_variables=['text']\n",
    ")\n",
    "\n",
    "prompt = create_prompt()\n",
    "llm_chain = create_chain(prompt)\n",
    "\n",
    "response = llm_chain.run(text=text)\n",
    "print(response)"
   ]
  },
  {
   "cell_type": "markdown",
   "metadata": {},
   "source": [
    "#### Saida estruturada como HTML ou JSON"
   ]
  },
  {
   "cell_type": "code",
   "execution_count": 18,
   "metadata": {},
   "outputs": [],
   "source": [
    "text = \"\"\"Generate a list of three made-up book titles along \\ \n",
    "with their authors and genres. \n",
    "Provide them in JSON format with the following keys: \n",
    "book_id, title, author, genre.\n",
    "\"\"\"\n",
    "\n",
    "template = \"\"\"\n",
    "Do what the following instructions are saying.\\\n",
    "human = {text}\n",
    "AI = \"\"\""
   ]
  },
  {
   "cell_type": "code",
   "execution_count": 19,
   "metadata": {},
   "outputs": [
    {
     "name": "stdout",
     "output_type": "stream",
     "text": [
      "\n",
      "\n",
      "\u001b[1m> Entering new  chain...\u001b[0m\n",
      "Prompt after formatting:\n",
      "\u001b[32;1m\u001b[1;3m\n",
      "Do what the following instructions are saying.human = Generate a list of three made-up book titles along \\ \n",
      "with their authors and genres. \n",
      "Provide them in JSON format with the following keys: \n",
      "book_id, title, author, genre.\n",
      "\n",
      "AI = \u001b[0m\n",
      "\n",
      "\u001b[1m> Finished chain.\u001b[0m\n",
      "{\n",
      "  \"book_1\": {\n",
      "    \"title\": \"The Lost City\",\n",
      "    \"author\": \"Samantha Green\",\n",
      "    \"genre\": \"Adventure\"\n",
      "  },\n",
      "  \"book_2\": {\n",
      "    \"title\": \"The Last Hope\",\n",
      "    \"author\": \"David Lee\",\n",
      "    \"genre\": \"Science Fiction\"\n",
      "  },\n",
      "  \"book_3\": {\n",
      "    \"title\": \"The Secret Garden\",\n",
      "    \"author\": \"Emily White\",\n",
      "    \"genre\": \"Fantasy\"\n",
      "  }\n",
      "}\n"
     ]
    }
   ],
   "source": [
    "prompt = create_prompt()\n",
    "llm_chain = create_chain(prompt)\n",
    "\n",
    "response = llm_chain.run(text=text)\n",
    "print(response)\n"
   ]
  },
  {
   "cell_type": "markdown",
   "metadata": {},
   "source": [
    "#### Verificar se as condições especificadas foram seguidas"
   ]
  },
  {
   "cell_type": "code",
   "execution_count": 20,
   "metadata": {},
   "outputs": [],
   "source": [
    "text = f\"\"\"\n",
    "Making a cup of tea is easy! First, you need to get some \\ \n",
    "water boiling. While that's happening, \\ \n",
    "grab a cup and put a tea bag in it. Once the water is \\ \n",
    "hot enough, just pour it over the tea bag. \\ \n",
    "Let it sit for a bit so the tea can steep. After a \\ \n",
    "few minutes, take out the tea bag. If you \\ \n",
    "like, you can add some sugar or milk to taste. \\ \n",
    "And that's it! You've got yourself a delicious \\ \n",
    "cup of tea to enjoy.\n",
    "\"\"\"\n",
    "\n",
    "template = \"\"\"\n",
    "You will be provided with text delimited by triple quotes. \n",
    "If it contains a sequence of instructions, \\ \n",
    "re-write those instructions in the following format:\n",
    "\n",
    "Step 1 - ...\n",
    "Step 2 - …\n",
    "…\n",
    "Step N - …\n",
    "\n",
    "If the text does not contain a sequence of instructions, \\ \n",
    "then simply write \\\"No steps provided.\\\"\n",
    "\n",
    "\\\"\\\"\\\"{text}\\\"\\\"\\\"\n",
    "\"\"\""
   ]
  },
  {
   "cell_type": "code",
   "execution_count": 23,
   "metadata": {},
   "outputs": [
    {
     "name": "stdout",
     "output_type": "stream",
     "text": [
      "\n",
      "\n",
      "\u001b[1m> Entering new  chain...\u001b[0m\n",
      "Prompt after formatting:\n",
      "\u001b[32;1m\u001b[1;3m\n",
      "You will be provided with text delimited by triple quotes. \n",
      "If it contains a sequence of instructions, \\ \n",
      "re-write those instructions in the following format:\n",
      "\n",
      "Step 1 - ...\n",
      "Step 2 - …\n",
      "…\n",
      "Step N - …\n",
      "\n",
      "If the text does not contain a sequence of instructions, \\ \n",
      "then simply write \"No steps provided.\"\n",
      "\n",
      "\"\"\"\n",
      "Making a cup of tea is easy! First, you need to get some \\ \n",
      "water boiling. While that's happening, \\ \n",
      "grab a cup and put a tea bag in it. Once the water is \\ \n",
      "hot enough, just pour it over the tea bag. \\ \n",
      "Let it sit for a bit so the tea can steep. After a \\ \n",
      "few minutes, take out the tea bag. If you \\ \n",
      "like, you can add some sugar or milk to taste. \\ \n",
      "And that's it! You've got yourself a delicious \\ \n",
      "cup of tea to enjoy.\n",
      "\"\"\"\n",
      "\u001b[0m\n",
      "\n",
      "\u001b[1m> Finished chain.\u001b[0m\n",
      "Step 1 - Get some water boiling.\n",
      "Step 2 - Grab a cup and put a tea bag in it.\n",
      "Step 3 - Once the water is hot enough, pour it over the tea bag.\n",
      "Step 4 - Let it sit for a bit so the tea can steep.\n",
      "Step 5 - After a few minutes, take out the tea bag.\n",
      "Step 6 - Add some sugar or milk to taste.\n",
      "Step 7 - Enjoy your delicious cup of tea!\n",
      "\n",
      "\n"
     ]
    }
   ],
   "source": [
    "prompt = create_prompt()\n",
    "llm_chain = create_chain(prompt)\n",
    "\n",
    "response = llm_chain.run(text=text)\n",
    "print(response)"
   ]
  },
  {
   "cell_type": "markdown",
   "metadata": {},
   "source": [
    "#### Neste exemplo as condições não foram completadas, então ele não retornou os steps"
   ]
  },
  {
   "cell_type": "code",
   "execution_count": 24,
   "metadata": {},
   "outputs": [],
   "source": [
    "text = f\"\"\"\n",
    "The sun is shining brightly today, and the birds are \\\n",
    "singing. It's a beautiful day to go for a \\ \n",
    "walk in the park. The flowers are blooming, and the \\ \n",
    "trees are swaying gently in the breeze. People \\ \n",
    "are out and about, enjoying the lovely weather. \\ \n",
    "Some are having picnics, while others are playing \\ \n",
    "games or simply relaxing on the grass. It's a \\ \n",
    "perfect day to spend time outdoors and appreciate the \\ \n",
    "beauty of nature.\n",
    "\"\"\"\n",
    "\n",
    "template = \"\"\"\n",
    "You will be provided with text delimited by triple quotes. \n",
    "If it contains a sequence of instructions, \\ \n",
    "re-write those instructions in the following format:\n",
    "\n",
    "Step 1 - ...\n",
    "Step 2 - …\n",
    "…\n",
    "Step N - …\n",
    "\n",
    "If the text does not contain a sequence of instructions, \\ \n",
    "then simply write \\\"No steps provided.\\\"\n",
    "\n",
    "\\\"\\\"\\\"{text}\\\"\\\"\\\"\n",
    "\"\"\""
   ]
  },
  {
   "cell_type": "code",
   "execution_count": 25,
   "metadata": {},
   "outputs": [
    {
     "name": "stdout",
     "output_type": "stream",
     "text": [
      "\n",
      "\n",
      "\u001b[1m> Entering new  chain...\u001b[0m\n",
      "Prompt after formatting:\n",
      "\u001b[32;1m\u001b[1;3m\n",
      "You will be provided with text delimited by triple quotes. \n",
      "If it contains a sequence of instructions, \\ \n",
      "re-write those instructions in the following format:\n",
      "\n",
      "Step 1 - ...\n",
      "Step 2 - …\n",
      "…\n",
      "Step N - …\n",
      "\n",
      "If the text does not contain a sequence of instructions, \\ \n",
      "then simply write \"No steps provided.\"\n",
      "\n",
      "\"\"\"\n",
      "The sun is shining brightly today, and the birds are singing. It's a beautiful day to go for a \\ \n",
      "walk in the park. The flowers are blooming, and the \\ \n",
      "trees are swaying gently in the breeze. People \\ \n",
      "are out and about, enjoying the lovely weather. \\ \n",
      "Some are having picnics, while others are playing \\ \n",
      "games or simply relaxing on the grass. It's a \\ \n",
      "perfect day to spend time outdoors and appreciate the \\ \n",
      "beauty of nature.\n",
      "\"\"\"\n",
      "\u001b[0m\n",
      "\n",
      "\u001b[1m> Finished chain.\u001b[0m\n",
      "No steps provided.\n"
     ]
    }
   ],
   "source": [
    "prompt = create_prompt()\n",
    "llm_chain = create_chain(prompt)\n",
    "\n",
    "response = llm_chain.run(text=text)\n",
    "print(response)"
   ]
  },
  {
   "cell_type": "markdown",
   "metadata": {},
   "source": [
    "#### few-shot learning - é um método de treinamento de modelo de inteligência artificial que envolve o treinamento de um modelo com um número muito limitado de exemplos"
   ]
  },
  {
   "cell_type": "code",
   "execution_count": 26,
   "metadata": {},
   "outputs": [],
   "source": [
    "text = \"\"\"<child>: Teach me about patience.\n",
    "\n",
    "<grandparent>: The river that carves the deepest \\ \n",
    "valley flows from a modest spring; the \\ \n",
    "grandest symphony originates from a single note; \\ \n",
    "the most intricate tapestry begins with a solitary thread.\n",
    "\n",
    "<child>: Teach me about resilience.\"\"\"\n",
    "\n",
    "template = \"\"\"\n",
    "Your task is to answer in a consistent style.\n",
    "\n",
    "\\\"\\\"\\\"{text}\\\"\\\"\\\"\n",
    "\"\"\""
   ]
  },
  {
   "cell_type": "code",
   "execution_count": 27,
   "metadata": {},
   "outputs": [
    {
     "name": "stdout",
     "output_type": "stream",
     "text": [
      "\n",
      "\n",
      "\u001b[1m> Entering new  chain...\u001b[0m\n",
      "Prompt after formatting:\n",
      "\u001b[32;1m\u001b[1;3m\n",
      "Your task is to answer in a consistent style.\n",
      "\n",
      "\"\"\"<child>: Teach me about patience.\n",
      "\n",
      "<grandparent>: The river that carves the deepest \\ \n",
      "valley flows from a modest spring; the \\ \n",
      "grandest symphony originates from a single note; \\ \n",
      "the most intricate tapestry begins with a solitary thread.\n",
      "\n",
      "<child>: Teach me about resilience.\"\"\"\n",
      "\u001b[0m\n",
      "\n",
      "\u001b[1m> Finished chain.\u001b[0m\n",
      "<grandparent>: Resilience is like a tree that withstands the strongest winds and storms. It may bend and sway, but it never breaks. Just like a tree, we must have strong roots and a solid foundation to weather any challenge that comes our way. Remember, every obstacle is an opportunity to grow stronger and more resilient.\n"
     ]
    }
   ],
   "source": [
    "prompt = create_prompt()\n",
    "llm_chain = create_chain(prompt)\n",
    "\n",
    "response = llm_chain.run(text=text)\n",
    "print(response)"
   ]
  }
 ],
 "metadata": {
  "kernelspec": {
   "display_name": ".venv",
   "language": "python",
   "name": "python3"
  },
  "language_info": {
   "codemirror_mode": {
    "name": "ipython",
    "version": 3
   },
   "file_extension": ".py",
   "mimetype": "text/x-python",
   "name": "python",
   "nbconvert_exporter": "python",
   "pygments_lexer": "ipython3",
   "version": "3.10.10"
  }
 },
 "nbformat": 4,
 "nbformat_minor": 2
}
