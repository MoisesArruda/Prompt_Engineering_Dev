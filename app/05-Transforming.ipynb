{
 "cells": [
  {
   "cell_type": "markdown",
   "metadata": {},
   "source": [
    "## Neste notebook iremos trabalhar com o modelo explorando a possibilidade\\\n",
    "    de transformar o texto em um tradutor, com corretor, ajusto de tonalidade e conversação formal."
   ]
  },
  {
   "cell_type": "code",
   "execution_count": 1,
   "metadata": {},
   "outputs": [],
   "source": [
    "from langchain.prompts import PromptTemplate\n",
    "from chat_embeddings import create_chain"
   ]
  },
  {
   "cell_type": "markdown",
   "metadata": {},
   "source": [
    "#### Tradutor"
   ]
  },
  {
   "cell_type": "code",
   "execution_count": 2,
   "metadata": {},
   "outputs": [],
   "source": [
    "text = f\"\"\"\n",
    "Hi, I would like to order a blender\n",
    "\"\"\"\n",
    "\n",
    "template = \"\"\"\n",
    "Translate the following English text to Spanish:\n",
    "\n",
    "Text: {text}\n",
    "\"\"\""
   ]
  },
  {
   "cell_type": "code",
   "execution_count": 3,
   "metadata": {},
   "outputs": [
    {
     "name": "stdout",
     "output_type": "stream",
     "text": [
      "\n",
      "\n",
      "\u001b[1m> Entering new  chain...\u001b[0m\n",
      "Prompt after formatting:\n",
      "\u001b[32;1m\u001b[1;3m\n",
      "Translate the following English text to Spanish:\n",
      "\n",
      "Text: \n",
      "Hi, I would like to order a blender\n",
      "\n",
      "\u001b[0m\n",
      "\n",
      "\u001b[1m> Finished chain.\u001b[0m\n",
      "Hola, me gustaría ordenar una licuadora.\n"
     ]
    }
   ],
   "source": [
    "def create_prompt():\n",
    "    \n",
    "    return PromptTemplate(\n",
    "\n",
    "    template=template,\n",
    "    input_variables=['text']\n",
    ")\n",
    "\n",
    "prompt = create_prompt()\n",
    "llm_chain = create_chain(prompt)\n",
    "\n",
    "response = llm_chain.run(text=text)\n",
    "print(response)"
   ]
  },
  {
   "cell_type": "code",
   "execution_count": 6,
   "metadata": {},
   "outputs": [],
   "source": [
    "text = f\"\"\"\n",
    "Combien coûte le lampadaire?\n",
    "\"\"\"\n",
    "\n",
    "template = \"\"\"\n",
    "Tell me which language this is: \n",
    "\n",
    "Text: {text}\n",
    "\"\"\""
   ]
  },
  {
   "cell_type": "code",
   "execution_count": 7,
   "metadata": {},
   "outputs": [
    {
     "name": "stdout",
     "output_type": "stream",
     "text": [
      "\n",
      "\n",
      "\u001b[1m> Entering new  chain...\u001b[0m\n",
      "Prompt after formatting:\n",
      "\u001b[32;1m\u001b[1;3m\n",
      "Tell me which language this is: \n",
      "\n",
      "Text: \n",
      "Combien coûte le lampadaire?\n",
      "\n",
      "\u001b[0m\n",
      "\n",
      "\u001b[1m> Finished chain.\u001b[0m\n",
      "This is French.\n"
     ]
    }
   ],
   "source": [
    "prompt = create_prompt()\n",
    "llm_chain = create_chain(prompt)\n",
    "\n",
    "response = llm_chain.run(text=text)\n",
    "print(response)"
   ]
  },
  {
   "cell_type": "code",
   "execution_count": 8,
   "metadata": {},
   "outputs": [],
   "source": [
    "text = f\"\"\"\n",
    "I want to order a basketball\n",
    "\"\"\"\n",
    "\n",
    "template = \"\"\"\n",
    "Translate the following  text to French and Spanish\n",
    "and English pirate:\n",
    "\n",
    "Text: {text}\n",
    "\"\"\""
   ]
  },
  {
   "cell_type": "code",
   "execution_count": 11,
   "metadata": {},
   "outputs": [
    {
     "name": "stdout",
     "output_type": "stream",
     "text": [
      "\n",
      "\n",
      "\u001b[1m> Entering new  chain...\u001b[0m\n",
      "Prompt after formatting:\n",
      "\u001b[32;1m\u001b[1;3m\n",
      "Translate the following text to Spanish in both the formal and informal forms: \n",
      "\n",
      "Text: \n",
      "'Would you like to order a pillow?'\n",
      "\n",
      "\u001b[0m\n",
      "\n",
      "\u001b[1m> Finished chain.\u001b[0m\n",
      "Formal: ¿Le gustaría ordenar una almohada?\n",
      "Informal: ¿Te gustaría ordenar una almohada?\n"
     ]
    }
   ],
   "source": [
    "prompt = create_prompt()\n",
    "llm_chain = create_chain(prompt)\n",
    "\n",
    "response = llm_chain.run(text=text)\n",
    "print(response)"
   ]
  },
  {
   "cell_type": "code",
   "execution_count": 12,
   "metadata": {},
   "outputs": [],
   "source": [
    "text = f\"\"\"\n",
    "'Would you like to order a pillow?'\n",
    "\"\"\"\n",
    "\n",
    "template = \"\"\"\n",
    "Translate the following text to Spanish in both the \\\n",
    "formal and informal forms: \n",
    "\n",
    "Text: {text}\n",
    "\"\"\""
   ]
  },
  {
   "cell_type": "code",
   "execution_count": 13,
   "metadata": {},
   "outputs": [
    {
     "name": "stdout",
     "output_type": "stream",
     "text": [
      "\n",
      "\n",
      "\u001b[1m> Entering new  chain...\u001b[0m\n",
      "Prompt after formatting:\n",
      "\u001b[32;1m\u001b[1;3m\n",
      "Translate the following text to Spanish in both the formal and informal forms: \n",
      "\n",
      "Text: \n",
      "'Would you like to order a pillow?'\n",
      "\n",
      "\u001b[0m\n",
      "\n",
      "\u001b[1m> Finished chain.\u001b[0m\n",
      "Formal: ¿Le gustaría ordenar una almohada?\n",
      "Informal: ¿Te gustaría ordenar una almohada?\n"
     ]
    }
   ],
   "source": [
    "prompt = create_prompt()\n",
    "llm_chain = create_chain(prompt)\n",
    "\n",
    "response = llm_chain.run(text=text)\n",
    "print(response)"
   ]
  }
 ],
 "metadata": {
  "kernelspec": {
   "display_name": ".venv",
   "language": "python",
   "name": "python3"
  },
  "language_info": {
   "codemirror_mode": {
    "name": "ipython",
    "version": 3
   },
   "file_extension": ".py",
   "mimetype": "text/x-python",
   "name": "python",
   "nbconvert_exporter": "python",
   "pygments_lexer": "ipython3",
   "version": "3.10.10"
  }
 },
 "nbformat": 4,
 "nbformat_minor": 2
}
