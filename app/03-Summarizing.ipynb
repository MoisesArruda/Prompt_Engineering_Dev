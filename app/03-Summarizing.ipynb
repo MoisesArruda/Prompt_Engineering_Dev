{
 "cells": [
  {
   "cell_type": "markdown",
   "metadata": {},
   "source": [
    "## Neste laboratório vamos summarizar textos e refinar nossos prompts com foco em bastante específicos."
   ]
  },
  {
   "cell_type": "code",
   "execution_count": 1,
   "metadata": {},
   "outputs": [],
   "source": [
    "from langchain.prompts import PromptTemplate\n",
    "from chat_embeddings import create_chain"
   ]
  },
  {
   "cell_type": "markdown",
   "metadata": {},
   "source": [
    "#### Gerando um resumo de um produto a partir de um texto."
   ]
  },
  {
   "cell_type": "code",
   "execution_count": 4,
   "metadata": {},
   "outputs": [],
   "source": [
    "text = f\"\"\"\n",
    "Got this panda plush toy for my daughter's birthday, \\\n",
    "who loves it and takes it everywhere. It's soft and \\ \n",
    "super cute, and its face has a friendly look. It's \\ \n",
    "a bit small for what I paid though. I think there \\ \n",
    "might be other options that are bigger for the \\ \n",
    "same price. It arrived a day earlier than expected, \\ \n",
    "so I got to play with it myself before I gave it \\ \n",
    "to her.\n",
    "\"\"\"\n",
    "\n",
    "template = \"\"\"\n",
    "Your task is to generate a short summary of a product \\\n",
    "review from an ecommerce site. \n",
    "\n",
    "Summarize the review below, delimited by triple \n",
    "backticks, in at most 30 words. \n",
    "\n",
    "Review: {text}\n",
    "\"\"\""
   ]
  },
  {
   "cell_type": "code",
   "execution_count": 5,
   "metadata": {},
   "outputs": [
    {
     "name": "stdout",
     "output_type": "stream",
     "text": [
      "\n",
      "\n",
      "\u001b[1m> Entering new  chain...\u001b[0m\n",
      "Prompt after formatting:\n",
      "\u001b[32;1m\u001b[1;3m\n",
      "Your task is to generate a short summary of a product review from an ecommerce site. \n",
      "\n",
      "Summarize the review below, delimited by triple \n",
      "backticks, in at most 30 words. \n",
      "\n",
      "Review: \n",
      "Got this panda plush toy for my daughter's birthday, who loves it and takes it everywhere. It's soft and \\ \n",
      "super cute, and its face has a friendly look. It's \\ \n",
      "a bit small for what I paid though. I think there \\ \n",
      "might be other options that are bigger for the \\ \n",
      "same price. It arrived a day earlier than expected, \\ \n",
      "so I got to play with it myself before I gave it \\ \n",
      "to her.\n",
      "\n",
      "\u001b[0m\n",
      "\n",
      "\u001b[1m> Finished chain.\u001b[0m\n",
      "```Soft and cute panda plush toy, loved by daughter. Friendly face, but a bit small for the price. Arrived early.```\n"
     ]
    }
   ],
   "source": [
    "def create_prompt():\n",
    "    \n",
    "    return PromptTemplate(\n",
    "\n",
    "    template=template,\n",
    "    input_variables=['text']\n",
    ")\n",
    "\n",
    "prompt = create_prompt()\n",
    "llm_chain = create_chain(prompt)\n",
    "\n",
    "response = llm_chain.run(text=text)\n",
    "print(response)"
   ]
  },
  {
   "cell_type": "markdown",
   "metadata": {},
   "source": [
    "#### Foco na entrega ou delivery"
   ]
  },
  {
   "cell_type": "code",
   "execution_count": 6,
   "metadata": {},
   "outputs": [],
   "source": [
    "text = f\"\"\"\n",
    "Got this panda plush toy for my daughter's birthday, \\\n",
    "who loves it and takes it everywhere. It's soft and \\ \n",
    "super cute, and its face has a friendly look. It's \\ \n",
    "a bit small for what I paid though. I think there \\ \n",
    "might be other options that are bigger for the \\ \n",
    "same price. It arrived a day earlier than expected, \\ \n",
    "so I got to play with it myself before I gave it \\ \n",
    "to her.\n",
    "\"\"\"\n",
    "\n",
    "template = \"\"\"\n",
    "Your task is to generate a short summary of a product \\\n",
    "review from an ecommerce site to give feedback to the \\\n",
    "Shipping deparmtment. \n",
    "\n",
    "Summarize the review below, delimited by triple \n",
    "backticks, in at most 30 words, and focusing on any aspects \\\n",
    "that mention shipping and delivery of the product. \n",
    "\n",
    "Review: {text}\n",
    "\"\"\""
   ]
  },
  {
   "cell_type": "code",
   "execution_count": 7,
   "metadata": {},
   "outputs": [
    {
     "name": "stdout",
     "output_type": "stream",
     "text": [
      "\n",
      "\n",
      "\u001b[1m> Entering new  chain...\u001b[0m\n",
      "Prompt after formatting:\n",
      "\u001b[32;1m\u001b[1;3m\n",
      "Your task is to generate a short summary of a product review from an ecommerce site. \n",
      "\n",
      "Summarize the review below, delimited by triple \n",
      "backticks, in at most 30 words. \n",
      "\n",
      "Review: \n",
      "Got this panda plush toy for my daughter's birthday, who loves it and takes it everywhere. It's soft and \\ \n",
      "super cute, and its face has a friendly look. It's \\ \n",
      "a bit small for what I paid though. I think there \\ \n",
      "might be other options that are bigger for the \\ \n",
      "same price. It arrived a day earlier than expected, \\ \n",
      "so I got to play with it myself before I gave it \\ \n",
      "to her.\n",
      "\n",
      "\u001b[0m\n",
      "\n",
      "\u001b[1m> Finished chain.\u001b[0m\n",
      "```Soft and cute panda plush toy, loved by daughter. Face has friendly look. A bit small for price, other options may be better. Arrived early.```\n"
     ]
    }
   ],
   "source": [
    "llm_chain = create_chain(prompt)\n",
    "\n",
    "response = llm_chain.run(text=text)\n",
    "print(response)"
   ]
  },
  {
   "cell_type": "markdown",
   "metadata": {},
   "source": [
    "#### Resuma com foco no preço"
   ]
  },
  {
   "cell_type": "code",
   "execution_count": 8,
   "metadata": {},
   "outputs": [],
   "source": [
    "text = f\"\"\"\n",
    "Got this panda plush toy for my daughter's birthday, \\\n",
    "who loves it and takes it everywhere. It's soft and \\ \n",
    "super cute, and its face has a friendly look. It's \\ \n",
    "a bit small for what I paid though. I think there \\ \n",
    "might be other options that are bigger for the \\ \n",
    "same price. It arrived a day earlier than expected, \\ \n",
    "so I got to play with it myself before I gave it \\ \n",
    "to her.\n",
    "\"\"\"\n",
    "\n",
    "template = \"\"\"\n",
    "Your task is to generate a short summary of a product \\\n",
    "review from an ecommerce site to give feedback to the \\\n",
    "pricing deparmtment, responsible for determining the \\\n",
    "price of the product.  \n",
    "\n",
    "Summarize the review below, delimited by triple \n",
    "backticks, in at most 30 words, and focusing on any aspects \\\n",
    "that are relevant to the price and perceived value. \n",
    "\n",
    "Review: {text}\n",
    "\"\"\""
   ]
  },
  {
   "cell_type": "code",
   "execution_count": 9,
   "metadata": {},
   "outputs": [
    {
     "name": "stdout",
     "output_type": "stream",
     "text": [
      "\n",
      "\n",
      "\u001b[1m> Entering new  chain...\u001b[0m\n",
      "Prompt after formatting:\n",
      "\u001b[32;1m\u001b[1;3m\n",
      "Your task is to generate a short summary of a product review from an ecommerce site. \n",
      "\n",
      "Summarize the review below, delimited by triple \n",
      "backticks, in at most 30 words. \n",
      "\n",
      "Review: \n",
      "Got this panda plush toy for my daughter's birthday, who loves it and takes it everywhere. It's soft and \\ \n",
      "super cute, and its face has a friendly look. It's \\ \n",
      "a bit small for what I paid though. I think there \\ \n",
      "might be other options that are bigger for the \\ \n",
      "same price. It arrived a day earlier than expected, \\ \n",
      "so I got to play with it myself before I gave it \\ \n",
      "to her.\n",
      "\n",
      "\u001b[0m\n",
      "\n",
      "\u001b[1m> Finished chain.\u001b[0m\n",
      "```Soft and cute panda plush toy, loved by daughter. Face has friendly look. A bit small for price, but arrived early.```\n"
     ]
    }
   ],
   "source": [
    "llm_chain = create_chain(prompt)\n",
    "\n",
    "response = llm_chain.run(text=text)\n",
    "print(response)"
   ]
  },
  {
   "cell_type": "markdown",
   "metadata": {},
   "source": [
    "#### Extrair ao invés de resumir"
   ]
  },
  {
   "cell_type": "code",
   "execution_count": 10,
   "metadata": {},
   "outputs": [],
   "source": [
    "text = f\"\"\"\n",
    "Got this panda plush toy for my daughter's birthday, \\\n",
    "who loves it and takes it everywhere. It's soft and \\ \n",
    "super cute, and its face has a friendly look. It's \\ \n",
    "a bit small for what I paid though. I think there \\ \n",
    "might be other options that are bigger for the \\ \n",
    "same price. It arrived a day earlier than expected, \\ \n",
    "so I got to play with it myself before I gave it \\ \n",
    "to her.\n",
    "\"\"\"\n",
    "\n",
    "template = \"\"\"\n",
    "Your task is to extract relevant information from \\ \n",
    "a product review from an ecommerce site to give \\\n",
    "feedback to the Shipping department. \n",
    "\n",
    "From the review below, delimited by triple quotes \\\n",
    "extract the information relevant to shipping and \\ \n",
    "delivery. Limit to 30 words. \n",
    "\n",
    "Review: {text}\n",
    "\"\"\""
   ]
  },
  {
   "cell_type": "code",
   "execution_count": 11,
   "metadata": {},
   "outputs": [
    {
     "name": "stdout",
     "output_type": "stream",
     "text": [
      "\n",
      "\n",
      "\u001b[1m> Entering new  chain...\u001b[0m\n",
      "Prompt after formatting:\n",
      "\u001b[32;1m\u001b[1;3m\n",
      "Your task is to generate a short summary of a product review from an ecommerce site. \n",
      "\n",
      "Summarize the review below, delimited by triple \n",
      "backticks, in at most 30 words. \n",
      "\n",
      "Review: \n",
      "Got this panda plush toy for my daughter's birthday, who loves it and takes it everywhere. It's soft and \\ \n",
      "super cute, and its face has a friendly look. It's \\ \n",
      "a bit small for what I paid though. I think there \\ \n",
      "might be other options that are bigger for the \\ \n",
      "same price. It arrived a day earlier than expected, \\ \n",
      "so I got to play with it myself before I gave it \\ \n",
      "to her.\n",
      "\n",
      "\u001b[0m\n",
      "\n",
      "\u001b[1m> Finished chain.\u001b[0m\n",
      "```Soft and cute panda plush toy, loved by daughter. Face has friendly look. A bit small for price, other options may be better. Arrived early.```\n"
     ]
    }
   ],
   "source": [
    "llm_chain = create_chain(prompt)\n",
    "\n",
    "response = llm_chain.run(text=text)\n",
    "print(response)"
   ]
  }
 ],
 "metadata": {
  "kernelspec": {
   "display_name": ".venv",
   "language": "python",
   "name": "python3"
  },
  "language_info": {
   "codemirror_mode": {
    "name": "ipython",
    "version": 3
   },
   "file_extension": ".py",
   "mimetype": "text/x-python",
   "name": "python",
   "nbconvert_exporter": "python",
   "pygments_lexer": "ipython3",
   "version": "3.10.10"
  }
 },
 "nbformat": 4,
 "nbformat_minor": 2
}
